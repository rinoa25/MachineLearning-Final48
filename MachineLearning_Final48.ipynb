{
  "nbformat": 4,
  "nbformat_minor": 0,
  "metadata": {
    "colab": {
      "name": "MachineLearning_Final48.ipynb",
      "provenance": [],
      "authorship_tag": "ABX9TyO1W5JK/DD9kSNbU+ZnOw8x",
      "include_colab_link": true
    },
    "kernelspec": {
      "name": "python3",
      "display_name": "Python 3"
    },
    "language_info": {
      "name": "python"
    }
  },
  "cells": [
    {
      "cell_type": "markdown",
      "metadata": {
        "id": "view-in-github",
        "colab_type": "text"
      },
      "source": [
        "<a href=\"https://colab.research.google.com/github/rinoa25/MachineLearning_Final48/blob/main/MachineLearning_Final48.ipynb\" target=\"_parent\"><img src=\"https://colab.research.google.com/assets/colab-badge.svg\" alt=\"Open In Colab\"/></a>"
      ]
    },
    {
      "cell_type": "markdown",
      "metadata": {
        "id": "MJ_69hjszOM4"
      },
      "source": [
        "Submission Details\n",
        "```\n",
        "# Final Project Group 48\n",
        "# Rinoa Malapaya 100743955\n",
        "# Noshin Rahman 100745332\n",
        "# Reference: https://www.python-graph-gallery.com/scatterplot-with-regression-fit-in-matplotlib\n",
        "# Reference: https://www.youtube.com/watch?v=RehA-5OjTN4\n",
        "# Reference: https://stackabuse.com/python-check-if-string-contains-substring/\n",
        "# Reference: https://pbpython.com/categorical-encoding.html\n",
        "# 2021-11-11\n",
        "```"
      ]
    },
    {
      "cell_type": "code",
      "metadata": {
        "id": "Xd-pUGTlzyWJ"
      },
      "source": [
        "# Imported Libraries\n",
        "import pandas as pd\n",
        "import numpy as np\n",
        "from sklearn.model_selection import train_test_split\n",
        "from sklearn.preprocessing import StandardScaler\n",
        "import tensorflow as tf\n",
        "from tensorflow import keras\n",
        "from sklearn.cluster import KMeans\n",
        "from sklearn.linear_model import LinearRegression\n",
        "from sklearn.metrics import mean_squared_error\n",
        "from matplotlib import pyplot as plt"
      ],
      "execution_count": null,
      "outputs": []
    },
    {
      "cell_type": "code",
      "metadata": {
        "id": "wpdLMp0CyHkB"
      },
      "source": [
        "# URL of the dataset\n",
        "url = 'https://raw.githubusercontent.com/rinoa25/MachineLearning_Final48/main/top100_kdrama.csv'\n",
        "\n",
        "# Downloads the dataset directly from the URL provided\n",
        "data = pd.read_csv(url)"
      ],
      "execution_count": null,
      "outputs": []
    },
    {
      "cell_type": "code",
      "metadata": {
        "id": "eNSbL-cCv-uc"
      },
      "source": [
        "# Drops the Name, Aired Date, Synopsis, Cast, Genre, Tags, Rank attributes\n",
        "# Reasoning: The categorical attributes contained a large range of values and are thus difficult to to convert ot a integer representation \n",
        "data.drop('Name', axis='columns', inplace=True)\n",
        "data.drop('Aired Date', axis='columns', inplace=True)\n",
        "data.drop('Synopsis', axis='columns', inplace=True)\n",
        "data.drop('Cast', axis='columns', inplace=True)\n",
        "data.drop('Genre', axis='columns', inplace=True)\n",
        "data.drop('Tags', axis='columns', inplace=True)\n",
        "data.drop('Rank', axis='columns', inplace=True)"
      ],
      "execution_count": null,
      "outputs": []
    },
    {
      "cell_type": "code",
      "metadata": {
        "id": "jnAuEsqv4IVD"
      },
      "source": [
        "# Categorical attributes that weren't dropped are now converted to an integer representation\n",
        "data['AirDayCode'] = pd.factorize(data[\"Aired On\"])[0]\n",
        "data['NtwrkCode'] = pd.factorize(data['Network'])[0]\n",
        "data['ContRateCode'] = pd.factorize(data['Content Rating'])[0]\n",
        "\n",
        "# If the value for the duration is longer than an hour, replace with 1. If it is less than an hour, replace with 0\n",
        "data[\"Duration\"] = np.where(data[\"Duration\"].str.contains(\"hr\"), 1, 0)"
      ],
      "execution_count": null,
      "outputs": []
    },
    {
      "cell_type": "code",
      "metadata": {
        "id": "kIfU3-xF4mn4"
      },
      "source": [
        "# Modified dataset is now called \"newdata\"\n",
        "newdata = data.select_dtypes(include=['int64','float64']).copy()"
      ],
      "execution_count": null,
      "outputs": []
    },
    {
      "cell_type": "code",
      "metadata": {
        "id": "xGC0eAtK0DUP"
      },
      "source": [
        "# Splits the data into 50% training and 50% test sets\n",
        "train, test = train_test_split(newdata, test_size=0.5)"
      ],
      "execution_count": null,
      "outputs": []
    },
    {
      "cell_type": "code",
      "metadata": {
        "id": "86GtP3C1cO8w"
      },
      "source": [
        "# Prepares the data\n",
        "train_labels = train.iloc[:,-1]\n",
        "train_data = train.drop(['Rating'], axis=1)\n",
        "test_labels = test.iloc[:,-1]\n",
        "test_data = test.drop(['Rating'], axis=1)"
      ],
      "execution_count": null,
      "outputs": []
    },
    {
      "cell_type": "code",
      "metadata": {
        "id": "Om3KSc0CcRA-"
      },
      "source": [
        "# For multiclass classification, we will use 'Rating' as the target\n",
        "train_labels_mc = train['Rating']\n",
        "test_labels_mc = test['Rating']"
      ],
      "execution_count": null,
      "outputs": []
    },
    {
      "cell_type": "code",
      "metadata": {
        "id": "B-8FOk7epryX"
      },
      "source": [
        "# Standardize / scale data so it has mean = 0 and variance = 1\n",
        "scaler = StandardScaler()\n",
        "train_data = scaler.fit_transform(train_data)\n",
        "test_data = scaler.transform(train_data)"
      ],
      "execution_count": null,
      "outputs": []
    },
    {
      "cell_type": "code",
      "metadata": {
        "colab": {
          "base_uri": "https://localhost:8080/"
        },
        "id": "jBD8nLTEdlYe",
        "outputId": "a651be79-6171-421c-f326-85b926edcc21"
      },
      "source": [
        "# Fit a K-Means clustering and see its performance\n",
        "k_means = KMeans(n_clusters=8, max_iter=100, init='random')\n",
        "k_means.fit(train_data)"
      ],
      "execution_count": null,
      "outputs": [
        {
          "output_type": "execute_result",
          "data": {
            "text/plain": [
              "KMeans(algorithm='auto', copy_x=True, init='random', max_iter=100, n_clusters=8,\n",
              "       n_init=10, n_jobs=None, precompute_distances='auto', random_state=None,\n",
              "       tol=0.0001, verbose=0)"
            ]
          },
          "metadata": {},
          "execution_count": 29
        }
      ]
    },
    {
      "cell_type": "code",
      "metadata": {
        "colab": {
          "base_uri": "https://localhost:8080/"
        },
        "id": "ZtcRAsGMk8ls",
        "outputId": "c65272c7-fb89-47a8-f9b8-91ee0164de0b"
      },
      "source": [
        "# K_Means Mean Squared Error\n",
        "data_predictions = k_means.predict(test_data)\n",
        "k_mse = mean_squared_error(test_labels, data_predictions)\n",
        "k_rmse = np.sqrt(k_mse)\n",
        "print('K_Means rmse =', k_rmse)"
      ],
      "execution_count": null,
      "outputs": [
        {
          "output_type": "stream",
          "name": "stdout",
          "text": [
            "K_Means rmse = 3.0919249667480613\n"
          ]
        }
      ]
    },
    {
      "cell_type": "code",
      "metadata": {
        "colab": {
          "base_uri": "https://localhost:8080/"
        },
        "id": "Z3DZ-WgEqOpn",
        "outputId": "471e7796-4cb9-4dff-b9b6-3b0a4cf6e72b"
      },
      "source": [
        "lin_reg = LinearRegression()\n",
        "lin_reg.fit(train_data, train_labels)"
      ],
      "execution_count": null,
      "outputs": [
        {
          "output_type": "execute_result",
          "data": {
            "text/plain": [
              "LinearRegression(copy_X=True, fit_intercept=True, n_jobs=None, normalize=False)"
            ]
          },
          "metadata": {},
          "execution_count": 31
        }
      ]
    },
    {
      "cell_type": "code",
      "metadata": {
        "colab": {
          "base_uri": "https://localhost:8080/"
        },
        "id": "BMhOux0Cqk_b",
        "outputId": "173de5b2-b224-4302-e5f8-e552b7680a79"
      },
      "source": [
        "data_predictions = lin_reg.predict(test_data)\n",
        "lin_mse = mean_squared_error(test_labels, data_predictions)\n",
        "lin_rmse = np.sqrt(lin_mse)\n",
        "print('linear regression rmse =', lin_rmse)"
      ],
      "execution_count": null,
      "outputs": [
        {
          "output_type": "stream",
          "name": "stdout",
          "text": [
            "linear regression rmse = 1.4015619913860815\n"
          ]
        }
      ]
    },
    {
      "cell_type": "code",
      "metadata": {
        "id": "-czVE15q072m"
      },
      "source": [
        "model = keras.models.Sequential([\n",
        "keras.layers.Flatten(input_shape=[6]),\n",
        "keras.layers.BatchNormalization(),\n",
        "keras.layers.Dense(15, activation=\"elu\"),\n",
        "keras.layers.Dropout(rate=0.5),\n",
        "keras.layers.Dense(10, activation=\"softmax\")\n",
        "])"
      ],
      "execution_count": null,
      "outputs": []
    },
    {
      "cell_type": "code",
      "metadata": {
        "colab": {
          "base_uri": "https://localhost:8080/",
          "height": 143
        },
        "id": "nBF9uT231GaC",
        "outputId": "32487a0b-3798-4651-de6c-8662b76f9667"
      },
      "source": [
        "keras.utils.plot_model(model, \"model.png\", show_shapes=True, rankdir='LR') # Try removing rankdir = 'LR'"
      ],
      "execution_count": null,
      "outputs": [
        {
          "output_type": "execute_result",
          "data": {
            "image/png": "[encoded data removed]",
            "text/plain": [
              "<IPython.core.display.Image object>"
            ]
          },
          "metadata": {},
          "execution_count": 34
        }
      ]
    },
    {
      "cell_type": "code",
      "metadata": {
        "id": "_1qLZRjB1HGd"
      },
      "source": [
        "opt = keras.optimizers.RMSprop(learning_rate=0.01,\n",
        "    rho=0.09,\n",
        "    momentum=0.1,\n",
        "    epsilon=1e-07)\n",
        "model.compile(loss=\"mean_squared_error\",\n",
        "optimizer= opt,\n",
        "metrics=[\"mse\"])"
      ],
      "execution_count": null,
      "outputs": []
    },
    {
      "cell_type": "code",
      "metadata": {
        "colab": {
          "base_uri": "https://localhost:8080/"
        },
        "id": "hiEBc-nt1LDM",
        "outputId": "6ac1e42f-2574-4992-d1ab-90aeb5459bed"
      },
      "source": [
        "history = model.fit(train_data, train_labels_mc, epochs=10, validation_data=(test_data, test_labels_mc), verbose=1)"
      ],
      "execution_count": null,
      "outputs": [
        {
          "output_type": "stream",
          "name": "stdout",
          "text": [
            "Epoch 1/10\n",
            "2/2 [==============================] - 1s 190ms/step - loss: 73.6838 - mse: 73.6838 - val_loss: 74.4988 - val_mse: 74.4988\n",
            "Epoch 2/10\n",
            "2/2 [==============================] - 0s 27ms/step - loss: 73.6836 - mse: 73.6836 - val_loss: 74.4988 - val_mse: 74.4988\n",
            "Epoch 3/10\n",
            "2/2 [==============================] - 0s 26ms/step - loss: 73.6818 - mse: 73.6818 - val_loss: 74.4988 - val_mse: 74.4988\n",
            "Epoch 4/10\n",
            "2/2 [==============================] - 0s 23ms/step - loss: 73.6807 - mse: 73.6807 - val_loss: 74.4988 - val_mse: 74.4988\n",
            "Epoch 5/10\n",
            "2/2 [==============================] - 0s 36ms/step - loss: 73.6810 - mse: 73.6810 - val_loss: 74.4988 - val_mse: 74.4988\n",
            "Epoch 6/10\n",
            "2/2 [==============================] - 0s 23ms/step - loss: 73.6801 - mse: 73.6801 - val_loss: 74.4988 - val_mse: 74.4988\n",
            "Epoch 7/10\n",
            "2/2 [==============================] - 0s 23ms/step - loss: 73.6799 - mse: 73.6799 - val_loss: 74.4985 - val_mse: 74.4985\n",
            "Epoch 8/10\n",
            "2/2 [==============================] - 0s 31ms/step - loss: 73.6798 - mse: 73.6798 - val_loss: 74.4586 - val_mse: 74.4586\n",
            "Epoch 9/10\n",
            "2/2 [==============================] - 0s 23ms/step - loss: 73.6791 - mse: 73.6791 - val_loss: 74.4635 - val_mse: 74.4635\n",
            "Epoch 10/10\n",
            "2/2 [==============================] - 0s 24ms/step - loss: 73.6789 - mse: 73.6789 - val_loss: 74.4626 - val_mse: 74.4626\n"
          ]
        }
      ]
    },
    {
      "cell_type": "code",
      "metadata": {
        "colab": {
          "base_uri": "https://localhost:8080/",
          "height": 278
        },
        "id": "LnAja1t9G-LR",
        "outputId": "434048dc-e929-4426-a757-3b7ec6d03462"
      },
      "source": [
        "# Since linear regression has the best performing algorithm (lowest mse), here's our first comparative graph between number of eps vs show ratings\n",
        "# Result: Kdramas that had small amount of episodes achieved better show ratings than shows that had a large amount of episodes\n",
        "x = newdata['Rating']\n",
        "y = newdata['Number of Episode']\n",
        "fig, ax = plt.subplots(figsize = (4, 4))\n",
        "ax.scatter(x, y, s=60, alpha=0.7, edgecolors=\"k\")\n",
        "ax.set_ylabel('Number of Episode')\n",
        "ax.set_xlabel('Rating')\n",
        "b, a = np.polyfit(x, y, deg=1) \n",
        "xseq = np.linspace(8.3, 9.3, num=100)\n",
        "ax.plot(xseq, a + b * xseq, color=\"k\", lw=2.5);"
      ],
      "execution_count": null,
      "outputs": [
        {
          "output_type": "display_data",
          "data": {
            "image/png": "[encoded data removed]",
            "text/plain": [
              "<Figure size 288x288 with 1 Axes>"
            ]
          },
          "metadata": {
            "needs_background": "light"
          }
        }
      ]
    },
    {
      "cell_type": "code",
      "metadata": {
        "colab": {
          "base_uri": "https://localhost:8080/",
          "height": 278
        },
        "id": "Sw1FQhI65VFJ",
        "outputId": "fd5c381f-c0eb-4b75-a0ba-a9a6b83b1084"
      },
      "source": [
        "# Since linear regression has the best performing algorithm (lowest mse), here's our second comparative graph between korean TV networks vs show ratings\n",
        "# Result: Most networks were able to achieve at least 8.5 show ratings on the shows they hosted, however networks represented by smaller codes (0 - 4) has better show ratings than networks with a larger code\n",
        "x = newdata['Rating']\n",
        "y = newdata['NtwrkCode']\n",
        "fig, ax = plt.subplots(figsize = (4, 4))\n",
        "ax.scatter(x, y, s=60, alpha=0.7, edgecolors=\"k\")\n",
        "ax.set_ylabel('NtwrkCode')\n",
        "ax.set_xlabel('Rating')\n",
        "b, a = np.polyfit(x, y, deg=1) \n",
        "xseq = np.linspace(8.3, 9.3)\n",
        "ax.plot(xseq, a + b * xseq, color=\"k\", lw=2.5);"
      ],
      "execution_count": null,
      "outputs": [
        {
          "output_type": "display_data",
          "data": {
            "image/png": "[encoded data removed]",
            "text/plain": [
              "<Figure size 288x288 with 1 Axes>"
            ]
          },
          "metadata": {
            "needs_background": "light"
          }
        }
      ]
    },
    {
      "cell_type": "code",
      "metadata": {
        "colab": {
          "base_uri": "https://localhost:8080/",
          "height": 278
        },
        "id": "G4_fF8Un7poz",
        "outputId": "359558d9-a8dc-4f42-cb4f-c599ca33f060"
      },
      "source": [
        "# Since linear regression has the best performing algorithm (lowest mse), here's our third comparative graph between content ratings vs show ratings\n",
        "# Result: Shows with a content rating represented by smaller numbers (0, 1) is able to achieve high show ratings, while content ratings represented by a higher number (2) finds difficult success in obtaining a high show ratings\n",
        "y = newdata['Rating']\n",
        "x = newdata['ContRateCode']\n",
        "fig, ax = plt.subplots(figsize = (4, 4))\n",
        "ax.scatter(x, y, s=60, edgecolors=\"k\")\n",
        "ax.set_xlabel('ContRateCode')\n",
        "ax.set_ylabel('Rating')\n",
        "b, a = np.polyfit(x, y, deg=1) \n",
        "xseq = np.linspace(0, 2)\n",
        "ax.plot(xseq, a + b * xseq, color=\"k\", lw=2.5);"
      ],
      "execution_count": null,
      "outputs": [
        {
          "output_type": "display_data",
          "data": {
            "image/png": "[encoded data removed]",
            "text/plain": [
              "<Figure size 288x288 with 1 Axes>"
            ]
          },
          "metadata": {
            "needs_background": "light"
          }
        }
      ]
    },
    {
      "cell_type": "code",
      "metadata": {
        "colab": {
          "base_uri": "https://localhost:8080/",
          "height": 278
        },
        "id": "xFWes9T9B1O9",
        "outputId": "bc67b9e7-9539-4f57-ed0e-295f75ca0c07"
      },
      "source": [
        "# Since linear regression has the best performing algorithm (lowest mse), here's our last comparative graph between airing days vs show ratings\n",
        "# Result: Shows with an airday code represented by smaller numbers (0, 6) is able to achieve high show ratings, while airday code represented by a higher number (7-10) finds difficult success in obtaining a high show ratings\n",
        "x = newdata['Rating']\n",
        "y = newdata['AirDayCode']\n",
        "fig, ax = plt.subplots(figsize = (4, 4))\n",
        "ax.scatter(x, y, s=60, edgecolors=\"k\")\n",
        "ax.set_ylabel('AirDayCode')\n",
        "ax.set_xlabel('Rating')\n",
        "b, a = np.polyfit(x, y, deg=1) \n",
        "xseq = np.linspace(8.3, 9.3)\n",
        "ax.plot(xseq, a + b * xseq, color=\"k\", lw=2.5);"
      ],
      "execution_count": null,
      "outputs": [
        {
          "output_type": "display_data",
          "data": {
            "image/png": "[encoded data removed]",
            "text/plain": [
              "<Figure size 288x288 with 1 Axes>"
            ]
          },
          "metadata": {
            "needs_background": "light"
          }
        }
      ]
    }
  ]
}